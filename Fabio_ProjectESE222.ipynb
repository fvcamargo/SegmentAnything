{
 "cells": [
  {
   "cell_type": "code",
   "execution_count": 5,
   "metadata": {},
   "outputs": [],
   "source": [
    "import os\n",
    "import leafmap\n",
    "import torch\n",
    "from samgeo import SamGeo, tms_to_geotiff, get_basemaps"
   ]
  },
  {
   "cell_type": "code",
   "execution_count": 7,
   "metadata": {},
   "outputs": [],
   "source": [
    "image = 'UAV_RGB_10cm.tif'\n"
   ]
  },
  {
   "cell_type": "code",
   "execution_count": 8,
   "metadata": {},
   "outputs": [],
   "source": [
    "out_dir = os.path.join(os.path.expanduser('~'), 'Downloads')\n",
    "checkpoint = os.path.join(out_dir, 'sam_vit_h_4b8939.pth')"
   ]
  },
  {
   "cell_type": "code",
   "execution_count": 9,
   "metadata": {},
   "outputs": [],
   "source": [
    "device = 'cuda' if torch.cuda.is_available() else 'cpu'\n",
    "\n",
    "sam = SamGeo(\n",
    "    checkpoint=checkpoint,\n",
    "    model_type='vit_h',\n",
    "    device=device,\n",
    "    erosion_kernel=(3, 3),\n",
    "    mask_multiplier=255,\n",
    "    sam_kwargs = {\n",
    "    'points_per_side': 32,\n",
    "    'pred_iou_thresh': 0.85,\n",
    "    'stability_score_thresh': 0.92,\n",
    "     'min_mask_region_area': 100,\n",
    "},\n",
    ")"
   ]
  },
  {
   "cell_type": "code",
   "execution_count": 10,
   "metadata": {},
   "outputs": [
    {
     "name": "stderr",
     "output_type": "stream",
     "text": [
      "100%|██████████| 28/28 [03:18<00:00,  7.09s/it]\n"
     ]
    }
   ],
   "source": [
    "mask = 'SAM_mask.tiff'\n",
    "\n",
    "sam.generate(image, mask)\n"
   ]
  },
  {
   "cell_type": "code",
   "execution_count": null,
   "metadata": {},
   "outputs": [],
   "source": [
    "shapefile = 'SAM_raw.shp'\n",
    "sam.tiff_to_vector(mask, shapefile)"
   ]
  },
  {
   "cell_type": "code",
   "execution_count": null,
   "metadata": {},
   "outputs": [],
   "source": [
    "#intersection_over_union - segment anything\n",
    "\n",
    "import geopandas as gpd\n",
    "\n",
    "def read_shapefile(file_path):\n",
    "    return gpd.read_file(file_path)\n",
    "\n",
    "def intersection_over_union(ground_truth, prediction):\n",
    "    intersection = ground_truth.intersection(prediction)\n",
    "    union = ground_truth.union(prediction)\n",
    "    iou = intersection.area / union.area\n",
    "    return iou\n",
    "\n",
    "# Read the shapefiles\n",
    "shapefile_a_path = \"reference segmentation.shp\"\n",
    "shapefile_b_path = \"SAM_raw.shp\"\n",
    "shapefile_a = read_shapefile(shapefile_a_path)\n",
    "shapefile_b = read_shapefile(shapefile_b_path)\n",
    "\n",
    "\n",
    "\n",
    "# Check if both shapefiles have the same CRS\n",
    "if shapefile_a.crs != shapefile_b.crs:\n",
    "    shapefile_b = shapefile_b.to_crs(shapefile_a.crs)\n",
    "\n",
    "# Compute the IoU\n",
    "iou = intersection_over_union(shapefile_a.unary_union, shapefile_b.unary_union)\n",
    "print(\"Segment anything_IoU:\", iou)"
   ]
  },
  {
   "cell_type": "code",
   "execution_count": null,
   "metadata": {},
   "outputs": [],
   "source": [
    "#intersection_over_union - Clean shape\n",
    "\n",
    "import geopandas as gpd\n",
    "\n",
    "def read_shapefile(file_path):\n",
    "    return gpd.read_file(file_path)\n",
    "\n",
    "def intersection_over_union(ground_truth, prediction):\n",
    "    intersection = ground_truth.intersection(prediction)\n",
    "    union = ground_truth.union(prediction)\n",
    "    iou = intersection.area / union.area\n",
    "    return iou\n",
    "\n",
    "# Read the shapefiles\n",
    "shapefile_a_path = \"reference segmentation.shp\"\n",
    "shapefile_b_path = \"SAM_clean.shp\"\n",
    "shapefile_a = read_shapefile(shapefile_a_path)\n",
    "shapefile_b = read_shapefile(shapefile_b_path)\n",
    "\n",
    "\n",
    "\n",
    "# Check if both shapefiles have the same CRS\n",
    "if shapefile_a.crs != shapefile_b.crs:\n",
    "    shapefile_b = shapefile_b.to_crs(shapefile_a.crs)\n",
    "\n",
    "# Compute the IoU\n",
    "iou = intersection_over_union(shapefile_a.unary_union, shapefile_b.unary_union)\n",
    "print(\"Clean shape IoU:\", iou)\n"
   ]
  },
  {
   "cell_type": "code",
   "execution_count": null,
   "metadata": {},
   "outputs": [],
   "source": [
    "vector = 'SAM_raw.gpkg'\n",
    "sam.tiff_to_gpkg(mask, vector, simplify_tolerance=None)\n"
   ]
  },
  {
   "cell_type": "code",
   "execution_count": 3,
   "metadata": {},
   "outputs": [
    {
     "data": {
      "application/vnd.jupyter.widget-view+json": {
       "model_id": "9ff38fed12764f04a5919040217dd1e1",
       "version_major": 2,
       "version_minor": 0
      },
      "text/plain": [
       "Map(center=[44.193079, 5.157165], controls=(ZoomControl(options=['position', 'zoom_in_text', 'zoom_in_title', …"
      ]
     },
     "metadata": {},
     "output_type": "display_data"
    }
   ],
   "source": [
    "m = leafmap.Map(center=[44.193079, 5.157165], zoom=18)\n",
    "m.add_basemap('SATELLITE')\n",
    "\n",
    "vector = 'SAM_clean_segmentation.gpkg'\n",
    "style = {\n",
    "    'color': '#3388ff',\n",
    "    'weight': 2,\n",
    "    'fillColor': '#7c4185',\n",
    "    'fillOpacity': 0.2,\n",
    "}\n",
    "m.add_vector(vector, layer_name='Vector', style=style)\n",
    "m"
   ]
  }
 ],
 "metadata": {
  "kernelspec": {
   "display_name": "base",
   "language": "python",
   "name": "python3"
  },
  "language_info": {
   "codemirror_mode": {
    "name": "ipython",
    "version": 3
   },
   "file_extension": ".py",
   "mimetype": "text/x-python",
   "name": "python",
   "nbconvert_exporter": "python",
   "pygments_lexer": "ipython3",
   "version": "3.9.15"
  },
  "orig_nbformat": 4
 },
 "nbformat": 4,
 "nbformat_minor": 2
}
